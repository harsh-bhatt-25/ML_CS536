{
 "cells": [
  {
   "cell_type": "markdown",
   "metadata": {},
   "source": [
    "Homework 2"
   ]
  },
  {
   "cell_type": "markdown",
   "metadata": {},
   "source": [
    "Harsh Bhatt (hb371)"
   ]
  },
  {
   "cell_type": "markdown",
   "metadata": {
    "collapsed": true
   },
   "source": [
    "# Generating Decision Trees"
   ]
  },
  {
   "cell_type": "markdown",
   "metadata": {},
   "source": [
    "## Generating a dataset according to the given scheme"
   ]
  },
  {
   "cell_type": "code",
   "execution_count": 244,
   "metadata": {},
   "outputs": [],
   "source": [
    "from random import choices\n",
    "from collections import Counter\n",
    "import numpy as np\n",
    "import matplotlib.pyplot as plt\n",
    "from sklearn.model_selection import train_test_split"
   ]
  },
  {
   "cell_type": "code",
   "execution_count": 245,
   "metadata": {},
   "outputs": [
    {
     "name": "stdout",
     "output_type": "stream",
     "text": [
      "[[1 1 0 0]\n",
      " [0 1 1 1]\n",
      " [1 1 0 0]\n",
      " [1 0 0 0]\n",
      " [0 0 0 0]\n",
      " [1 1 1 0]\n",
      " [0 0 0 0]\n",
      " [0 0 1 1]\n",
      " [0 0 1 1]\n",
      " [1 1 1 1]] [0 0 0 0 1 1 1 0 0 1]\n"
     ]
    }
   ],
   "source": [
    "class GenerateDataset:\n",
    "\n",
    "    def __init__(self, k):\n",
    "        self.weights, self.y_array, self.x_array = [], [], []\n",
    "        # Generate Weights\n",
    "        weight_sum = 0\n",
    "        for i in range(2, k + 1):\n",
    "            weight_sum += 0.9 ** i\n",
    "\n",
    "        for i in range(2, k + 1):\n",
    "            wi = (0.9 ** i) / weight_sum\n",
    "            self.weights.append(wi)\n",
    "\n",
    "    def generate_y_values(self, x_values, k):\n",
    "        check_sum = 0\n",
    "        y = -1\n",
    "        for i in range(1, k):\n",
    "            check_sum += self.weights[i - 1] * x_values[i]\n",
    "        if check_sum >= 0.5:\n",
    "            y = x_values[0]\n",
    "        else:\n",
    "            y = 1 - x_values[0]\n",
    "        return y\n",
    "\n",
    "    def generate_data_points(self, k):\n",
    "        x_values = [choices([0, 1], [0.5, 0.5])[0]]\n",
    "\n",
    "        for i in range(1, k):\n",
    "            x_values.append(choices([x_values[i - 1], (1 - x_values[i - 1])], [0.75, 0.25])[0])\n",
    "        y_value = self.generate_y_values(x_values, k)\n",
    "        self.y_array.append(y_value)\n",
    "        self.x_array.append(x_values)\n",
    "\n",
    "    def generate(self, m, k):\n",
    "        for i in range(m):\n",
    "            self.generate_data_points(k)\n",
    "        return np.array(self.x_array), np.array(self.y_array)\n",
    "obj = GenerateDataset(4)\n",
    "a, b = obj.generate(10, 4)\n",
    "print(a,b)"
   ]
  },
  {
   "cell_type": "markdown",
   "metadata": {},
   "source": [
    "## Creating a Decision Tree using ID3 algorithm"
   ]
  },
  {
   "cell_type": "code",
   "execution_count": 246,
   "metadata": {},
   "outputs": [],
   "source": [
    "class Node:\n",
    "    def __init__(self, feature=None, value=None, *, left=None, right=None, label_name=None, entropy=None, samples=None,\n",
    "                 counts=None):\n",
    "        self.feature = feature\n",
    "        self.value = value\n",
    "        self.left = left\n",
    "        self.right = right\n",
    "        self.label_name = label_name\n",
    "        self.entropy = entropy\n",
    "        self.samples = samples\n",
    "        self.counts = counts\n",
    "\n",
    "\n",
    "class DecisionTree:\n",
    "    flag = \"a\"\n",
    "\n",
    "    def __init__(self):\n",
    "        self.root = None\n",
    "\n",
    "    def train(self, x_array, y):\n",
    "        _, features = x_array.shape\n",
    "        indices = [i for i in range(features)]\n",
    "        self.root = self.tree(x_array, y, indices)\n",
    "\n",
    "    def tree(self, x_array, y, feature_indices):\n",
    "        left_indices, right_indices = [], []\n",
    "        len_labels = len(set(y))\n",
    "        if len_labels == 1:\n",
    "            label_name = y[0]\n",
    "            return Node(label_name=label_name)\n",
    "\n",
    "        if len_labels != 1 and len(feature_indices) == 0:\n",
    "            value = self.max_counter(y)\n",
    "            return Node(label_name=value)\n",
    "\n",
    "        indexes = feature_indices\n",
    "        feature_index, entropy, feature_value = self.get_split_index(x_array, y, indexes, np.unique(y))\n",
    "        if entropy == 0:\n",
    "            value = self.max_counter(y)\n",
    "            return Node(label_name=value)\n",
    "\n",
    "        x_column = x_array[:, feature_index]\n",
    "        len_x_column = len(x_column)\n",
    "        for i in range(len_x_column):\n",
    "            if x_column[i] == feature_value:\n",
    "                left_indices.append(i)\n",
    "            else:\n",
    "                right_indices.append(i)\n",
    "\n",
    "        # left_split, right_split = np.array(left_indices), np.array(right_indices)\n",
    "        left_node = self.tree(x_array[np.array(left_indices), :], y[np.array(left_indices)], indexes)\n",
    "        right_node = self.tree(x_array[np.array(right_indices), :], y[np.array(right_indices)], indexes)\n",
    "        return Node(feature_index, feature_value, left=left_node, right=right_node, entropy=entropy,\n",
    "                    samples=len(y), counts=np.bincount(y))\n",
    "\n",
    "    def max_counter(self, y):\n",
    "        counts = np.bincount(y)\n",
    "        length = len(counts)\n",
    "        max_count, max_value = -1, -1\n",
    "        for i in range(length):\n",
    "            if counts[i] > max_count:\n",
    "                max_value = i\n",
    "        return max_value\n",
    "\n",
    "    def get_split_index(self, x_array, y, indexes, unique_y):\n",
    "        entropy, split_index, split_value = -1, None, None\n",
    "        for column in indexes:\n",
    "            X_column = x_array[:, column]\n",
    "            for value in unique_y:\n",
    "                gain = self.information_gain(X_column, y, value)\n",
    "                if gain > entropy:\n",
    "                    entropy = gain\n",
    "                    split_index = column\n",
    "                    split_value = value\n",
    "\n",
    "        return split_index, entropy, split_value\n",
    "\n",
    "    def information_gain(self, X_column, y, split_value):\n",
    "        H_Y = self.H(y)\n",
    "\n",
    "        left_indices, right_indices = [], []\n",
    "        length = len(X_column)\n",
    "        for i in range(length):\n",
    "            if X_column[i] == split_value:\n",
    "                left_indices.append(i)\n",
    "            else:\n",
    "                right_indices.append(i)\n",
    "\n",
    "        if len(left_indices) == 0 or len(right_indices) == 0:\n",
    "            return 0\n",
    "\n",
    "        y_length = len(y)\n",
    "        H_Y_X = 0\n",
    "        x_values = {len(left_indices): y[left_indices], len(right_indices): y[right_indices]}\n",
    "        for value in x_values:\n",
    "            x_probability = value / y_length\n",
    "            H_Y_X += x_probability * self.H(x_values[value])\n",
    "\n",
    "        IG = H_Y - H_Y_X\n",
    "        return IG\n",
    "\n",
    "    def H(self, y):\n",
    "        counts = np.bincount(y)\n",
    "        length_y = len(y)\n",
    "        probabilities = np.array([i / length_y for i in counts])\n",
    "        return -np.sum([p * np.log2(p) for p in probabilities if p > 0])\n",
    "\n",
    "    def predict(self, x_array):\n",
    "        return np.array([self.tree_traverse(x, self.root) for x in x_array])\n",
    "\n",
    "    def tree_traverse(self, x, node):\n",
    "        if node.label_name is not None:\n",
    "            return node.label_name\n",
    "\n",
    "        if x[node.feature] == node.value:\n",
    "            return self.tree_traverse(x, node.left)\n",
    "        return self.tree_traverse(x, node.right)\n",
    "\n",
    "    def print_tree(self, root):\n",
    "        if root.feature is None and root.label_name is None:\n",
    "            return\n",
    "\n",
    "        queue = [root, self.flag]\n",
    "\n",
    "        while True:\n",
    "            current = queue.pop(0)\n",
    "            if current != \"a\":\n",
    "                if current.label_name is not None:\n",
    "                    print(\"Value = {}, Entropy = {}\".format(current.label_name, current.entropy, end=\" \"))\n",
    "                else:\n",
    "                    print(\"Feature = {}, Samples = {}, Counts = {}, Entropy = {}\".format(current.feature,\n",
    "                                                                                         current.samples,\n",
    "                                                                                         current.counts,\n",
    "                                                                                         current.entropy, end=\" \"))\n",
    "                if current.left is not None:\n",
    "                    queue.append(current.left)\n",
    "                if current.right is not None:\n",
    "                    queue.append(current.right)\n",
    "            else:\n",
    "                print(\"\")\n",
    "                if len(queue) == 0:\n",
    "                    break\n",
    "                else:\n",
    "                    queue.append(self.flag)\n"
   ]
  },
  {
   "cell_type": "code",
   "execution_count": 270,
   "metadata": {},
   "outputs": [],
   "source": [
    "#This is the function which will calculate the error from our actual data labels and the predicted labels.\n",
    "\n",
    "def error(y_true, y_pred):\n",
    "    accuracy = np.sum(y_true == y_pred) / len(y_true)\n",
    "    return 1 - accuracy"
   ]
  },
  {
   "cell_type": "code",
   "execution_count": 248,
   "metadata": {},
   "outputs": [
    {
     "name": "stdout",
     "output_type": "stream",
     "text": [
      "Error on training data is  0.0\n"
     ]
    }
   ],
   "source": [
    "data_obj = GenerateDataset(4)\n",
    "x_train, y_train = data_obj.generate(30, 4)\n",
    "\n",
    "clf = DecisionTree()\n",
    "clf.train(x_train, y_train)\n",
    "\n",
    "y_pred = clf.predict(x_train)\n",
    "myerror = error(y_train, y_pred)\n",
    "\n",
    "print(\"Error on training data is \", myerror)\n"
   ]
  },
  {
   "cell_type": "markdown",
   "metadata": {},
   "source": [
    "## Generation of data and fit a decision tree"
   ]
  },
  {
   "cell_type": "code",
   "execution_count": 94,
   "metadata": {
    "scrolled": false
   },
   "outputs": [
    {
     "name": "stdout",
     "output_type": "stream",
     "text": [
      "[[1 1 1 0]\n",
      " [0 0 0 0]\n",
      " [1 0 1 0]\n",
      " [1 1 1 1]\n",
      " [0 0 0 1]\n",
      " [0 0 0 0]\n",
      " [1 1 1 1]\n",
      " [1 0 1 1]\n",
      " [0 0 0 0]\n",
      " [1 1 1 1]\n",
      " [0 1 0 1]\n",
      " [1 1 0 0]\n",
      " [0 0 0 0]\n",
      " [0 0 1 0]\n",
      " [1 0 0 0]\n",
      " [0 0 0 0]\n",
      " [1 1 1 1]\n",
      " [1 1 0 0]\n",
      " [1 1 0 1]\n",
      " [1 1 1 1]\n",
      " [0 0 0 0]\n",
      " [1 1 1 1]\n",
      " [1 1 0 1]\n",
      " [0 0 0 0]\n",
      " [0 0 0 1]\n",
      " [0 0 0 0]\n",
      " [0 0 0 0]\n",
      " [1 1 1 1]\n",
      " [0 0 1 1]\n",
      " [1 0 0 0]] [1 1 0 1 1 1 1 1 1 1 0 0 1 1 0 1 1 0 1 1 1 1 1 1 1 1 1 1 0 0]\n",
      "Feature = 0, Samples = 30, Counts = [ 7 23], Entropy = 0.02977592679451746\n",
      "\n",
      "Feature = 3, Samples = 14, Counts = [ 2 12], Entropy = 0.3059584928680418\n",
      "Feature = 3, Samples = 16, Counts = [ 5 11], Entropy = 0.6522798244164246\n",
      "\n",
      "Value = 1, Entropy = None\n",
      "Feature = 1, Samples = 4, Counts = [2 2], Entropy = 0.31127812445913283\n",
      "Feature = 1, Samples = 6, Counts = [5 1], Entropy = 0.6500224216483541\n",
      "Value = 1, Entropy = None\n",
      "\n",
      "Feature = 2, Samples = 3, Counts = [1 2], Entropy = 0.9182958340544896\n",
      "Value = 0, Entropy = None\n",
      "Feature = 2, Samples = 3, Counts = [2 1], Entropy = 0.9182958340544896\n",
      "Value = 0, Entropy = None\n",
      "\n",
      "Value = 1, Entropy = None\n",
      "Value = 0, Entropy = None\n",
      "Value = 0, Entropy = None\n",
      "Value = 1, Entropy = None\n",
      "\n"
     ]
    }
   ],
   "source": [
    "data_obj = GenerateDataset(4)\n",
    "x_train, y_train = data_obj.generate(30, 4)\n",
    "\n",
    "clf = DecisionTree()\n",
    "clf.train(x_train, y_train)\n",
    "\n",
    "print(x_train, y_train)\n",
    "clf.print_tree(clf.root)"
   ]
  },
  {
   "cell_type": "markdown",
   "metadata": {},
   "source": [
    "The ordering matters as the feature with highest IG is chosen at first. As we go down, we have comparatively \"pure\" data so we expect higher entropy. But if we swap a feature down the branch with one of its parent, then the distribution of data points based on that feature would not be optimal. Hence our decision tree would not give out accurate results."
   ]
  },
  {
   "cell_type": "markdown",
   "metadata": {},
   "source": [
    "![title](image.JPG)"
   ]
  },
  {
   "cell_type": "markdown",
   "metadata": {},
   "source": [
    "## Find the typical (Average) error"
   ]
  },
  {
   "cell_type": "code",
   "execution_count": 112,
   "metadata": {},
   "outputs": [
    {
     "name": "stdout",
     "output_type": "stream",
     "text": [
      "[0 0 1 1 1 0 1 1 0 1] [0 0 1 1 1 0 1 1 0 1]\n",
      "Average Error = 4.659452736318411%\n"
     ]
    }
   ],
   "source": [
    "#Function to calculate averge error\n",
    "def average_error(y):\n",
    "    total, average = 0, 0\n",
    "    for i in y:\n",
    "        total += i\n",
    "    average = total / len(y)\n",
    "    return average * 100\n",
    "\n",
    "# As we have made a decision tree in the previous question, we would just use that tree to test our data now.\n",
    "y = []\n",
    "i = 0\n",
    "while i <= 200:\n",
    "    \n",
    "    new_obj = GenerateDataset(4)\n",
    "    x_test, y_test = new_obj.generate(2000, 4)\n",
    "    \n",
    "    y_pred = clf.predict(x_test)\n",
    "    acc = error(y_test, y_pred)\n",
    "    y.append(acc)\n",
    "    \n",
    "    i += 1\n",
    "\n",
    "print(y_test[:10], y_pred[:10])\n",
    "print(\"Average Error = {}%\".format(average_error(y)))"
   ]
  },
  {
   "cell_type": "markdown",
   "metadata": {},
   "source": [
    "As we can see from above, the average error is = 4.694%"
   ]
  },
  {
   "cell_type": "markdown",
   "metadata": {},
   "source": [
    "## For k = 10, finding error and making graph"
   ]
  },
  {
   "cell_type": "code",
   "execution_count": 120,
   "metadata": {},
   "outputs": [],
   "source": [
    "def graph(x, y):\n",
    "    plt.plot(x, y, label=\"ID3 \", color=\"red\")\n",
    "    plt.xlabel(\"m values\")\n",
    "    plt.ylabel(\" $|err_{test} - err_{train}|$\")\n",
    "    plt.title(\"ID3\")\n",
    "    plt.legend()\n",
    "    plt.show()\n"
   ]
  },
  {
   "cell_type": "code",
   "execution_count": 126,
   "metadata": {},
   "outputs": [
    {
     "data": {
      "image/png": "[encoded data removed]",
      "text/plain": [
       "<Figure size 432x288 with 1 Axes>"
      ]
     },
     "metadata": {
      "needs_background": "light"
     },
     "output_type": "display_data"
    }
   ],
   "source": [
    "x, y = [], []\n",
    "for i in range(100, 10000, 500):\n",
    "    data_obj = GenerateDataset(10)\n",
    "    x_dataset, y_dataset = data_obj.generate(i, 10)\n",
    "    x_train, x_test, y_train, y_test = train_test_split(x_dataset, y_dataset, test_size=0.2, random_state=1234)\n",
    "\n",
    "    clf = DecisionTree()\n",
    "    clf.train(x_train, y_train)\n",
    "\n",
    "    y_pred = clf.predict(x_test)\n",
    "    acc = error(y_test, y_pred)\n",
    "\n",
    "    y_train_pred = clf.predict(x_train)\n",
    "    acc1 = error(y_train, y_train_pred)\n",
    "\n",
    "    y.append(abs(acc - acc1))\n",
    "    x.append(i)\n",
    "\n",
    "graph(x, y)"
   ]
  },
  {
   "cell_type": "markdown",
   "metadata": {},
   "source": [
    "We can say by looking at the graph that as we have more number of training datapoints, our decision tree that is bulit understands the underlying distribution of data very well."
   ]
  },
  {
   "cell_type": "markdown",
   "metadata": {},
   "source": [
    "## Alternative Metric - Gini Index"
   ]
  },
  {
   "cell_type": "code",
   "execution_count": 131,
   "metadata": {},
   "outputs": [],
   "source": [
    "class Node_gini:\n",
    "    def __init__(self, feature=None, value=None, *, left=None, right=None, label_name=None, entropy=None, samples=None,\n",
    "                 counts=None):\n",
    "        self.feature = feature\n",
    "        self.value = value\n",
    "        self.left = left\n",
    "        self.right = right\n",
    "        self.label_name = label_name\n",
    "        self.entropy = entropy\n",
    "        self.samples = samples\n",
    "        self.counts = counts\n",
    "\n",
    "\n",
    "class DecisionTree_gini:\n",
    "    flag = \"a\"\n",
    "\n",
    "    def __init__(self):\n",
    "        self.root = None\n",
    "\n",
    "    def train(self, x_array, y):\n",
    "        _, features = x_array.shape\n",
    "        indices = [i for i in range(features)]\n",
    "        self.root = self.tree(x_array, y, indices)\n",
    "\n",
    "    def tree(self, x_array, y, feature_indices):\n",
    "        left_indices, right_indices = [], []\n",
    "        len_labels = len(set(y))\n",
    "        if len_labels == 1:\n",
    "            label_name = y[0]\n",
    "            return Node_gini(label_name=label_name)\n",
    "\n",
    "        if len_labels != 1 and len(feature_indices) == 0:\n",
    "            value = self.max_counter(y)\n",
    "            return Node_gini(label_name=value)\n",
    "\n",
    "        indexes = feature_indices\n",
    "        feature_index, entropy, feature_value = self.get_split_index(x_array, y, indexes, np.unique(y))\n",
    "        if entropy == 0:\n",
    "            value = self.max_counter(y)\n",
    "            return Node_gini(label_name=value)\n",
    "\n",
    "        x_column = x_array[:, feature_index]\n",
    "        len_x_column = len(x_column)\n",
    "        for i in range(len_x_column):\n",
    "            if x_column[i] == feature_value:\n",
    "                left_indices.append(i)\n",
    "            else:\n",
    "                right_indices.append(i)\n",
    "\n",
    "        left_node = self.tree(x_array[np.array(left_indices), :], y[np.array(left_indices)], indexes)\n",
    "        right_node = self.tree(x_array[np.array(right_indices), :], y[np.array(right_indices)], indexes)\n",
    "        return Node_gini(feature_index, feature_value, left=left_node, right=right_node, entropy=entropy,\n",
    "                    samples=len(y), counts=np.bincount(y))\n",
    "\n",
    "    def max_counter(self, y):\n",
    "        counts = np.bincount(y)\n",
    "        length = len(counts)\n",
    "        max_count, max_value = -1, -1\n",
    "        for i in range(length):\n",
    "            if counts[i] > max_count:\n",
    "                max_value = i\n",
    "        return max_value\n",
    "\n",
    "    def get_split_index(self, x_array, y, indexes, unique_y):\n",
    "        best_gain, split_index, split_value = 0, None, None\n",
    "        for column in indexes:\n",
    "            X_column = x_array[:, column]\n",
    "            left, right = np.array([]), np.array([])\n",
    "            for value in unique_y:\n",
    "                for i in range(len(X_column)):\n",
    "                    if X_column[i] == value:\n",
    "                        np.append(left, i)\n",
    "                    else:\n",
    "                        np.append(right, i)\n",
    "\n",
    "                if len(left) == 0 or len(right) == 0:\n",
    "                    continue\n",
    "\n",
    "                gain = self.information_gain(left, right)\n",
    "                if gain < best_gain:\n",
    "                    best_gain = gain\n",
    "                    split_index = column\n",
    "                    split_value = value\n",
    "\n",
    "        return split_index, best_gain, split_value\n",
    "\n",
    "    def information_gain(self, left, right):\n",
    "        probability = len(left) / (len(left) + len(right))\n",
    "        return (probability * self.gini(left)) - ((1-probability) * self.gini(right))\n",
    "\n",
    "    def gini(self, rows):\n",
    "        length = len(rows)\n",
    "        counts = np.bincount(rows)\n",
    "        impurity = 1\n",
    "        for i in range(len(counts)):\n",
    "            prob = counts[i] / length\n",
    "            impurity -= prob**2\n",
    "        return impurity\n",
    "\n",
    "    def predict(self, x_array):\n",
    "        return np.array([self.tree_traverse(x, self.root) for x in x_array])\n",
    "\n",
    "    def tree_traverse(self, x, node):\n",
    "        if node.label_name is not None:\n",
    "            return node.label_name\n",
    "\n",
    "        if x[node.feature] == node.value:\n",
    "            return self.tree_traverse(x, node.left)\n",
    "        return self.tree_traverse(x, node.right)\n",
    "\n",
    "    def print_tree(self, root):\n",
    "        if root.feature is None and root.label_name is None:\n",
    "            return\n",
    "\n",
    "        queue = [root, self.flag]\n",
    "\n",
    "        while True:\n",
    "            current = queue.pop(0)\n",
    "            if current != \"a\":\n",
    "                if current.label_name is not None:\n",
    "                    print(\"Value = {}, Entropy = {}\".format(current.label_name, current.entropy, end=\" \"))\n",
    "                else:\n",
    "                    print(\"Feature = {}, Samples = {}, Counts = {}, Entropy = {}\".format(current.feature,\n",
    "                                                                                         current.samples,\n",
    "                                                                                         current.counts,\n",
    "                                                                                         current.entropy, end=\" \"))\n",
    "                if current.left is not None:\n",
    "                    queue.append(current.left)\n",
    "                if current.right is not None:\n",
    "                    queue.append(current.right)\n",
    "            else:\n",
    "                print(\"\")\n",
    "                if len(queue) == 0:\n",
    "                    break\n",
    "                else:\n",
    "                    queue.append(self.flag)\n"
   ]
  },
  {
   "cell_type": "markdown",
   "metadata": {},
   "source": [
    "Testing gini on dataset"
   ]
  },
  {
   "cell_type": "code",
   "execution_count": 268,
   "metadata": {},
   "outputs": [
    {
     "data": {
      "image/png": "[encoded data removed]",
      "text/plain": [
       "<Figure size 432x288 with 1 Axes>"
      ]
     },
     "metadata": {
      "needs_background": "light"
     },
     "output_type": "display_data"
    }
   ],
   "source": [
    "def gini_graph(x, y):\n",
    "    plt.plot(x, y, label=\"Gini\", color=\"red\")\n",
    "    plt.xlabel(\"m values\")\n",
    "    plt.ylabel(\" $|err_{test} - err_{train}|$\")\n",
    "    plt.title(\"Gini\")\n",
    "    plt.legend()\n",
    "    plt.show()\n",
    "\n",
    "gx, gy = [], []\n",
    "for i in range(100, 10000, 500):\n",
    "    data_obj = GenerateDataset(10)\n",
    "    gx_dataset, gy_dataset = data_obj.generate(i, 10)\n",
    "    gx_train, gx_test, gy_train, gy_test = train_test_split(gx_dataset, gy_dataset, test_size=0.2, random_state=1234)\n",
    "\n",
    "    clf = DecisionTree_gini()\n",
    "    clf.train(gx_train, gy_train)\n",
    "\n",
    "    gy_pred = clf.predict(gx_test)\n",
    "    acc = error(gy_test, gy_pred)\n",
    "\n",
    "    gy_train_pred = clf.predict(gx_train)\n",
    "    acc1 = error(gy_train, gy_train_pred)\n",
    "\n",
    "    gy.append(abs(acc - acc1))\n",
    "    gx.append(i)\n",
    "\n",
    "gini_graph(gx, gy)"
   ]
  },
  {
   "cell_type": "code",
   "execution_count": 269,
   "metadata": {},
   "outputs": [
    {
     "data": {
      "image/png": "[encoded data removed]",
      "text/plain": [
       "<Figure size 432x288 with 1 Axes>"
      ]
     },
     "metadata": {
      "needs_background": "light"
     },
     "output_type": "display_data"
    }
   ],
   "source": [
    "plt.plot(x,y)\n",
    "plt.plot(gx, gy)\n",
    "plt.xlabel(\"Sample Size (m)\")\n",
    "plt.ylabel(\"|err_(train) - err|\")\n",
    "plt.legend([\"ID3\", \"Gini\"])\n",
    "plt.show()"
   ]
  },
  {
   "cell_type": "markdown",
   "metadata": {},
   "source": [
    "We can compare the two methods using the above graph. As we see, the error for both metrics is almost same but the error for Gini Index starts very high and then it keeps fluctuating in a small range of errors. The final probability is same for both the metrics when the sample size is maximum for the given iteration."
   ]
  },
  {
   "cell_type": "markdown",
   "metadata": {},
   "source": [
    "# Pruning Decision Trees"
   ]
  },
  {
   "cell_type": "markdown",
   "metadata": {},
   "source": [
    "## Generating dataset by a scheme"
   ]
  },
  {
   "cell_type": "code",
   "execution_count": 160,
   "metadata": {},
   "outputs": [],
   "source": [
    "class GenerateDataset2:\n",
    "    def __init__(self):\n",
    "        self.x_array, self.y_array = [], []\n",
    "        \n",
    "    def generate_y_values(self, x_values):\n",
    "        if x_values[0] == 0:\n",
    "            y = Counter(x_values[1:8]).most_common()[0][0]\n",
    "        else:\n",
    "            y = Counter(x_values[8:15]).most_common()[0][0]\n",
    "        return y\n",
    "\n",
    "    def generate_data_points(self):\n",
    "        x_values = [choices([0, 1], [0.5, 0.5])[0]]\n",
    "\n",
    "        for i in range(1, 15):\n",
    "            x_values.append(choices([x_values[i - 1], (1 - x_values[i - 1])], [0.75, 0.25])[0])\n",
    "        for i in range(15, 22):\n",
    "            x_values.append(choices([1, 0], [0.5, 0.5])[0])\n",
    "        y_value = self.generate_y_values(x_values)\n",
    "        self.x_array.append(x_values)\n",
    "        self.y_array.append(y_value)\n",
    "\n",
    "    def generate(self, m):\n",
    "        for i in range(m):\n",
    "            self.generate_data_points()\n",
    "        return np.array(self.x_array), np.array(self.y_array)"
   ]
  },
  {
   "cell_type": "code",
   "execution_count": 188,
   "metadata": {},
   "outputs": [],
   "source": [
    "class Node2:\n",
    "    def __init__(self, feature=None, value=None, *, left=None, right=None, label_name=None, entropy=None, samples=None,\n",
    "                 counts=None):\n",
    "        self.feature = feature\n",
    "        self.value = value\n",
    "        self.left = left\n",
    "        self.right = right\n",
    "        self.label_name = label_name\n",
    "        self.entropy = entropy\n",
    "        self.samples = samples\n",
    "        self.counts = counts\n",
    "\n",
    "\n",
    "class DecisionTree2:\n",
    "    flag = \"a\"\n",
    "\n",
    "    def __init__(self):\n",
    "        self.root = None\n",
    "        self.irrelevant_array, self.relevant_array = [], []\n",
    "\n",
    "    def train(self, x_array, y):\n",
    "        _, features = x_array.shape\n",
    "        indices = [i for i in range(features)]\n",
    "        self.root = self.tree(x_array, y, indices)\n",
    "\n",
    "    def tree(self, x_array, y, feature_indices):\n",
    "        left_indices, right_indices = [], []\n",
    "        len_labels = len(set(y))\n",
    "        if len_labels == 1:\n",
    "            label_name = y[0]\n",
    "            return Node(label_name=label_name)\n",
    "\n",
    "        if len_labels != 1 and len(feature_indices) == 0:\n",
    "            value = self.max_counter(y)\n",
    "            return Node(label_name=value)\n",
    "\n",
    "        indexes = feature_indices\n",
    "        feature_index, entropy, feature_value = self.get_split_index(x_array, y, indexes, np.unique(y))\n",
    "        \n",
    "        if feature_index in [15, 16, 17, 18, 19, 20]:\n",
    "            self.irrelevant_array.append(feature_index)\n",
    "            \n",
    "        if entropy == 0:\n",
    "            value = self.max_counter(y)\n",
    "            return Node(label_name=value)\n",
    "\n",
    "        x_column = x_array[:, feature_index]\n",
    "        len_x_column = len(x_column)\n",
    "        for i in range(len_x_column):\n",
    "            if x_column[i] == feature_value:\n",
    "                left_indices.append(i)\n",
    "            else:\n",
    "                right_indices.append(i)\n",
    "\n",
    "        left_node = self.tree(x_array[np.array(left_indices), :], y[np.array(left_indices)], indexes)\n",
    "        right_node = self.tree(x_array[np.array(right_indices), :], y[np.array(right_indices)], indexes)\n",
    "        return Node(feature_index, feature_value, left=left_node, right=right_node, entropy=entropy,\n",
    "                    samples=len(y), counts=np.bincount(y))\n",
    "\n",
    "    def max_counter(self, y):\n",
    "        counts = np.bincount(y)\n",
    "        length = len(counts)\n",
    "        max_count, max_value = -1, -1\n",
    "        for i in range(length):\n",
    "            if counts[i] > max_count:\n",
    "                max_value = i\n",
    "        return max_value\n",
    "\n",
    "    def get_split_index(self, x_array, y, indexes, unique_y):\n",
    "        entropy, split_index, split_value = -1, None, None\n",
    "        for column in indexes:\n",
    "            X_column = x_array[:, column]\n",
    "            for value in unique_y:\n",
    "                gain = self.information_gain(X_column, y, value)\n",
    "                if gain > entropy:\n",
    "                    entropy = gain\n",
    "                    split_index = column\n",
    "                    split_value = value\n",
    "\n",
    "        return split_index, entropy, split_value\n",
    "\n",
    "    def information_gain(self, X_column, y, split_value):\n",
    "        H_Y = self.H(y)\n",
    "\n",
    "        left_indices, right_indices = [], []\n",
    "        length = len(X_column)\n",
    "        for i in range(length):\n",
    "            if X_column[i] == split_value:\n",
    "                left_indices.append(i)\n",
    "            else:\n",
    "                right_indices.append(i)\n",
    "\n",
    "        if len(left_indices) == 0 or len(right_indices) == 0:\n",
    "            return 0\n",
    "\n",
    "        y_length = len(y)\n",
    "        H_Y_X = 0\n",
    "        x_values = {len(left_indices): y[left_indices], len(right_indices): y[right_indices]}\n",
    "        for value in x_values:\n",
    "            x_probability = value / y_length\n",
    "            H_Y_X += x_probability * self.H(x_values[value])\n",
    "\n",
    "        IG = H_Y - H_Y_X\n",
    "        return IG\n",
    "\n",
    "    def H(self, y):\n",
    "        counts = np.bincount(y)\n",
    "        length_y = len(y)\n",
    "        probabilities = np.array([i / length_y for i in counts])\n",
    "        return -np.sum([p * np.log2(p) for p in probabilities if p > 0])\n",
    "\n",
    "    def predict(self, x_array):\n",
    "        return np.array([self.tree_traverse(x, self.root) for x in x_array])\n",
    "\n",
    "    def tree_traverse(self, x, node):\n",
    "        if node.label_name is not None:\n",
    "            return node.label_name\n",
    "\n",
    "        if x[node.feature] == node.value:\n",
    "            return self.tree_traverse(x, node.left)\n",
    "        return self.tree_traverse(x, node.right)\n",
    "\n",
    "    def check_irrelevant(self):\n",
    "        return len(set(self.irrelevant_array))\n",
    "    \n",
    "    def print_tree(self, root):\n",
    "        if root.feature is None and root.label_name is None:\n",
    "            return\n",
    "\n",
    "        queue = [root, self.flag]\n",
    "\n",
    "        while True:\n",
    "            current = queue.pop(0)\n",
    "            if current != \"a\":\n",
    "                if current.label_name is not None:\n",
    "                    print(\"Value = {}, Entropy = {}\".format(current.label_name, current.entropy, end=\" \"))\n",
    "                else:\n",
    "                    print(\"Feature = {}, Samples = {}, Counts = {}, Entropy = {}\".format(current.feature,\n",
    "                                                                                         current.samples,\n",
    "                                                                                         current.counts,\n",
    "                                                                                         current.entropy, end=\" \"))\n",
    "                if current.left is not None:\n",
    "                    queue.append(current.left)\n",
    "                if current.right is not None:\n",
    "                    queue.append(current.right)\n",
    "            else:\n",
    "                print(\"\")\n",
    "                if len(queue) == 0:\n",
    "                    break\n",
    "                else:\n",
    "                    queue.append(self.flag)"
   ]
  },
  {
   "cell_type": "code",
   "execution_count": 264,
   "metadata": {},
   "outputs": [
    {
     "data": {
      "image/png": "[encoded data removed]",
      "text/plain": [
       "<Figure size 432x288 with 1 Axes>"
      ]
     },
     "metadata": {
      "needs_background": "light"
     },
     "output_type": "display_data"
    }
   ],
   "source": [
    "ax, ay = [], []\n",
    "for i in range(100, 10000, 500):\n",
    "    data_obj = GenerateDataset2()\n",
    "    ax_dataset, ay_dataset = data_obj.generate(i) #here, k would always be 20\n",
    "    ax_train, ax_test, ay_train, ay_test = train_test_split(ax_dataset, ay_dataset, test_size=0.2, random_state=1234)\n",
    "\n",
    "    clf = DecisionTree2()\n",
    "    clf.train(ax_train, ay_train)\n",
    "\n",
    "    ay_pred = clf.predict(ax_test)\n",
    "    acc = error(ay_test, ay_pred)\n",
    "\n",
    "    ay_train_pred = clf.predict(ax_train)\n",
    "    acc1 = error(ay_train, ay_train_pred)\n",
    "\n",
    "    ay.append(100*abs(acc - acc1))\n",
    "    ax.append(i)\n",
    "\n",
    "plt.plot(ax,ay)\n",
    "plt.legend([\"ID3\"])\n",
    "plt.xlabel(\"Sample size (m)\")\n",
    "plt.ylabel(\"Error rate\")\n",
    "plt.show()"
   ]
  },
  {
   "cell_type": "markdown",
   "metadata": {},
   "source": [
    "We can agree with this intuition that after getting more datapoints to train, the algorithm gets better.After we got the sample values for around 4000, our error rate stabilized a bit. So getting more datapoints helped in our algorithm to learn better."
   ]
  },
  {
   "cell_type": "markdown",
   "metadata": {},
   "source": [
    "## Irrelevant variables included in the tree"
   ]
  },
  {
   "cell_type": "code",
   "execution_count": 192,
   "metadata": {},
   "outputs": [
    {
     "name": "stdout",
     "output_type": "stream",
     "text": [
      "6.0\n"
     ]
    }
   ],
   "source": [
    "ax, ay, irr, count = [], [], [], 0\n",
    "for i in range(1000, 35000, 2000):\n",
    "    data_obj = GenerateDataset2()\n",
    "    ax_dataset, ay_dataset = data_obj.generate(i) \n",
    "    ax_train, ax_test, ay_train, ay_test = train_test_split(ax_dataset, ay_dataset, test_size=0.2, random_state=1234)\n",
    "\n",
    "    clf = DecisionTree2()\n",
    "    clf.train(ax_train, ay_train)\n",
    "    \n",
    "    a = clf.check_irrelevant()\n",
    "    count += a\n",
    "    irr.append(a)\n",
    "    \n",
    "    ay_pred = clf.predict(ax_test)\n",
    "    acc = error(ay_test, ay_pred)\n",
    "\n",
    "    ay_train_pred = clf.predict(ax_train)\n",
    "    acc1 = error(ay_train, ay_train_pred)\n",
    "\n",
    "    ay.append(abs(acc - acc1))\n",
    "    ax.append(i)\n",
    "\n",
    "print(count/len(irr))"
   ]
  },
  {
   "cell_type": "markdown",
   "metadata": {},
   "source": [
    "For my algorithm, I am getting an average number of 6 irrelevant datapoints in my tree. In our dataset generation, we 6 features which are irrelevant i.e. from feature 15 to 20. So, the maximum number of irrelevant features a decision tree can have is 6. \n",
    "\n",
    "We see that at around 35000 datapoints, our model will not give any irrelevant features or the value would be lower than 1. And as have 15 relevant features in our dataset i.e. 0 to 14, so the number of relevant datapoints would be 2^15 = 32000. The answer is similar to the reasoning hence we can say that 35000 datapoints is required for no irrelevant data."
   ]
  },
  {
   "cell_type": "markdown",
   "metadata": {},
   "source": [
    "## Pruning by Depth"
   ]
  },
  {
   "cell_type": "code",
   "execution_count": 208,
   "metadata": {},
   "outputs": [],
   "source": [
    "class NodeDepth:\n",
    "    def __init__(self, feature=None, value=None, *, left=None, right=None, label_name=None, entropy=None, samples=None,\n",
    "                 counts=None):\n",
    "        self.feature = feature\n",
    "        self.value = value\n",
    "        self.left = left\n",
    "        self.right = right\n",
    "        self.label_name = label_name\n",
    "        self.entropy = entropy\n",
    "        self.samples = samples\n",
    "        self.counts = counts\n",
    "\n",
    "\n",
    "class DecisionTreeDepth:\n",
    "    flag = \"a\"\n",
    "\n",
    "    def __init__(self, max_depth):\n",
    "        self.root = None\n",
    "        self.max_depth = max_depth\n",
    "        self.irrelevant_array, self.relevant_array = [], []\n",
    "\n",
    "    def train(self, x_array, y):\n",
    "        _, features = x_array.shape\n",
    "        indices = [i for i in range(features)]\n",
    "        self.root = self.tree(x_array, y, indices)\n",
    "\n",
    "    def tree(self, x_array, y, feature_indices, depth = 0):\n",
    "        left_indices, right_indices = [], []\n",
    "        len_labels = len(set(y))\n",
    "        if len_labels == 1:\n",
    "            label_name = y[0]\n",
    "            return NodeDepth(label_name=label_name)\n",
    "        \n",
    "        if depth >= self.max_depth:\n",
    "            value = self.max_counter(y)\n",
    "            return NodeDepth(label_name = value)\n",
    "\n",
    "        if len_labels != 1 and len(feature_indices) == 0:\n",
    "            value = self.max_counter(y)\n",
    "            return NodeDepth(label_name=value)\n",
    "\n",
    "        indexes = feature_indices\n",
    "        feature_index, entropy, feature_value = self.get_split_index(x_array, y, indexes, np.unique(y))\n",
    "        \n",
    "        if feature_index in [15, 16, 17, 18, 19, 20]:\n",
    "            self.irrelevant_array.append(feature_index)\n",
    "            \n",
    "        if entropy == 0:\n",
    "            value = self.max_counter(y)\n",
    "            return NodeDepth(label_name=value)\n",
    "\n",
    "        x_column = x_array[:, feature_index]\n",
    "        len_x_column = len(x_column)\n",
    "        for i in range(len_x_column):\n",
    "            if x_column[i] == feature_value:\n",
    "                left_indices.append(i)\n",
    "            else:\n",
    "                right_indices.append(i)\n",
    "\n",
    "        left_node = self.tree(x_array[np.array(left_indices), :], y[np.array(left_indices)], indexes, depth+1)\n",
    "        right_node = self.tree(x_array[np.array(right_indices), :], y[np.array(right_indices)], indexes, depth+1)\n",
    "        return NodeDepth(feature_index, feature_value, left=left_node, right=right_node, entropy=entropy,\n",
    "                    samples=len(y), counts=np.bincount(y))\n",
    "\n",
    "    def max_counter(self, y):\n",
    "        counts = np.bincount(y)\n",
    "        length = len(counts)\n",
    "        max_count, max_value = -1, -1\n",
    "        for i in range(length):\n",
    "            if counts[i] > max_count:\n",
    "                max_value = i\n",
    "        return max_value\n",
    "\n",
    "    def get_split_index(self, x_array, y, indexes, unique_y):\n",
    "        entropy, split_index, split_value = -1, None, None\n",
    "        for column in indexes:\n",
    "            X_column = x_array[:, column]\n",
    "            for value in unique_y:\n",
    "                gain = self.information_gain(X_column, y, value)\n",
    "                if gain > entropy:\n",
    "                    entropy = gain\n",
    "                    split_index = column\n",
    "                    split_value = value\n",
    "\n",
    "        return split_index, entropy, split_value\n",
    "\n",
    "    def information_gain(self, X_column, y, split_value):\n",
    "        H_Y = self.H(y)\n",
    "\n",
    "        left_indices, right_indices = [], []\n",
    "        length = len(X_column)\n",
    "        for i in range(length):\n",
    "            if X_column[i] == split_value:\n",
    "                left_indices.append(i)\n",
    "            else:\n",
    "                right_indices.append(i)\n",
    "\n",
    "        if len(left_indices) == 0 or len(right_indices) == 0:\n",
    "            return 0\n",
    "\n",
    "        y_length = len(y)\n",
    "        H_Y_X = 0\n",
    "        x_values = {len(left_indices): y[left_indices], len(right_indices): y[right_indices]}\n",
    "        for value in x_values:\n",
    "            x_probability = value / y_length\n",
    "            H_Y_X += x_probability * self.H(x_values[value])\n",
    "\n",
    "        IG = H_Y - H_Y_X\n",
    "        return IG\n",
    "\n",
    "    def H(self, y):\n",
    "        counts = np.bincount(y)\n",
    "        length_y = len(y)\n",
    "        probabilities = np.array([i / length_y for i in counts])\n",
    "        return -np.sum([p * np.log2(p) for p in probabilities if p > 0])\n",
    "\n",
    "    def predict(self, x_array):\n",
    "        return np.array([self.tree_traverse(x, self.root) for x in x_array])\n",
    "\n",
    "    def tree_traverse(self, x, node):\n",
    "        if node.label_name is not None:\n",
    "            return node.label_name\n",
    "\n",
    "        if x[node.feature] == node.value:\n",
    "            return self.tree_traverse(x, node.left)\n",
    "        return self.tree_traverse(x, node.right)\n",
    "\n",
    "    def check_irrelevant(self):\n",
    "        return len(set(self.irrelevant_array))"
   ]
  },
  {
   "cell_type": "code",
   "execution_count": 272,
   "metadata": {},
   "outputs": [],
   "source": [
    "x, y, z = [], [], []\n",
    "it = [i for i in range(0, 15)]\n",
    "for i in range(0, 15):\n",
    "    data_obj = GenerateDataset2()\n",
    "    x_dataset, y_dataset = data_obj.generate(10000)\n",
    "    x_train, x_test, y_train, y_test = train_test_split(x_dataset, y_dataset, test_size=0.2, random_state=1234)\n",
    "\n",
    "    clf = DecisionTreeDepth(i)\n",
    "    clf.train(x_train, y_train)\n",
    "\n",
    "    y_pred = clf.predict(x_test)\n",
    "    acc = 100*error(y_test, y_pred)\n",
    "\n",
    "    y_train_pred = clf.predict(x_train)\n",
    "    acc1 = 100*error(y_train, y_train_pred)\n",
    "\n",
    "    y.append(acc)\n",
    "    z.append(acc1)"
   ]
  },
  {
   "cell_type": "code",
   "execution_count": 273,
   "metadata": {},
   "outputs": [
    {
     "data": {
      "image/png": "[encoded data removed]",
      "text/plain": [
       "<Figure size 432x288 with 1 Axes>"
      ]
     },
     "metadata": {
      "needs_background": "light"
     },
     "output_type": "display_data"
    }
   ],
   "source": [
    "plt.plot(it,y)\n",
    "plt.plot(it, z)\n",
    "plt.xlabel(\"Depth\")\n",
    "plt.ylabel(\"Error in %\")\n",
    "plt.legend([\"Testing\", \"Training\"])\n",
    "plt.show()"
   ]
  },
  {
   "cell_type": "markdown",
   "metadata": {},
   "source": [
    "From the graph, we can see that after depth of around 11, the line for testing error flattens a bit. This is due to the intuition that as we have 15 relevant features and if we consider the relevant features only, then, our error could be minimized. So, we see if the depth is 0-6, it cannot consider lot of variables and as a result gives much error."
   ]
  },
  {
   "cell_type": "markdown",
   "metadata": {},
   "source": [
    "## Pruning by Sample Size"
   ]
  },
  {
   "cell_type": "code",
   "execution_count": 228,
   "metadata": {},
   "outputs": [],
   "source": [
    "class NodeSample:\n",
    "    def __init__(self, feature=None, value=None, *, left=None, right=None, label_name=None, entropy=None, samples=None,\n",
    "                 counts=None):\n",
    "        self.feature = feature\n",
    "        self.value = value\n",
    "        self.left = left\n",
    "        self.right = right\n",
    "        self.label_name = label_name\n",
    "        self.entropy = entropy\n",
    "        self.samples = samples\n",
    "        self.counts = counts\n",
    "\n",
    "\n",
    "class DecisionTreeSample:\n",
    "    flag = \"a\"\n",
    "\n",
    "    def __init__(self, min_sample):\n",
    "        self.root = None\n",
    "        self.min_sample = min_sample\n",
    "        self.irrelevant_array, self.relevant_array = [], []\n",
    "\n",
    "    def train(self, x_array, y):\n",
    "        _, features = x_array.shape\n",
    "        indices = [i for i in range(features)]\n",
    "        self.root = self.tree(x_array, y, indices)\n",
    "\n",
    "    def tree(self, x_array, y, feature_indices):\n",
    "        left_indices, right_indices = [], []\n",
    "        len_labels = len(set(y))\n",
    "        if len_labels == 1:\n",
    "            label_name = y[0]\n",
    "            return NodeSample(label_name=label_name)\n",
    "        \n",
    "        if len(y) <= self.min_sample:\n",
    "            value = self.max_counter(y)\n",
    "            return NodeSample(label_name = value)\n",
    "\n",
    "        if len_labels != 1 and len(feature_indices) == 0:\n",
    "            value = self.max_counter(y)\n",
    "            return NodeSample(label_name=value)\n",
    "\n",
    "        indexes = feature_indices\n",
    "        feature_index, entropy, feature_value = self.get_split_index(x_array, y, indexes, np.unique(y))\n",
    "        \n",
    "        if feature_index in [15, 16, 17, 18, 19, 20]:\n",
    "            self.irrelevant_array.append(feature_index)\n",
    "            \n",
    "        if entropy == 0:\n",
    "            value = self.max_counter(y)\n",
    "            return NodeSample(label_name=value)\n",
    "\n",
    "        x_column = x_array[:, feature_index]\n",
    "        len_x_column = len(x_column)\n",
    "        for i in range(len_x_column):\n",
    "            if x_column[i] == feature_value:\n",
    "                left_indices.append(i)\n",
    "            else:\n",
    "                right_indices.append(i)\n",
    "\n",
    "        left_node = self.tree(x_array[np.array(left_indices), :], y[np.array(left_indices)], indexes)\n",
    "        right_node = self.tree(x_array[np.array(right_indices), :], y[np.array(right_indices)], indexes)\n",
    "        return NodeSample(feature_index, feature_value, left=left_node, right=right_node, entropy=entropy,\n",
    "                    samples=len(y), counts=np.bincount(y))\n",
    "\n",
    "    def max_counter(self, y):\n",
    "        counts = np.bincount(y)\n",
    "        length = len(counts)\n",
    "        max_count, max_value = -1, -1\n",
    "        for i in range(length):\n",
    "            if counts[i] > max_count:\n",
    "                max_value = i\n",
    "        return max_value\n",
    "\n",
    "    def get_split_index(self, x_array, y, indexes, unique_y):\n",
    "        entropy, split_index, split_value = -1, None, None\n",
    "        for column in indexes:\n",
    "            X_column = x_array[:, column]\n",
    "            for value in unique_y:\n",
    "                gain = self.information_gain(X_column, y, value)\n",
    "                if gain > entropy:\n",
    "                    entropy = gain\n",
    "                    split_index = column\n",
    "                    split_value = value\n",
    "\n",
    "        return split_index, entropy, split_value\n",
    "\n",
    "    def information_gain(self, X_column, y, split_value):\n",
    "        H_Y = self.H(y)\n",
    "\n",
    "        left_indices, right_indices = [], []\n",
    "        length = len(X_column)\n",
    "        for i in range(length):\n",
    "            if X_column[i] == split_value:\n",
    "                left_indices.append(i)\n",
    "            else:\n",
    "                right_indices.append(i)\n",
    "\n",
    "        if len(left_indices) == 0 or len(right_indices) == 0:\n",
    "            return 0\n",
    "\n",
    "        y_length = len(y)\n",
    "        H_Y_X = 0\n",
    "        x_values = {len(left_indices): y[left_indices], len(right_indices): y[right_indices]}\n",
    "        for value in x_values:\n",
    "            x_probability = value / y_length\n",
    "            H_Y_X += x_probability * self.H(x_values[value])\n",
    "\n",
    "        IG = H_Y - H_Y_X\n",
    "        return IG\n",
    "\n",
    "    def H(self, y):\n",
    "        counts = np.bincount(y)\n",
    "        length_y = len(y)\n",
    "        probabilities = np.array([i / length_y for i in counts])\n",
    "        return -np.sum([p * np.log2(p) for p in probabilities if p > 0])\n",
    "\n",
    "    def predict(self, x_array):\n",
    "        return np.array([self.tree_traverse(x, self.root) for x in x_array])\n",
    "\n",
    "    def tree_traverse(self, x, node):\n",
    "        if node.label_name is not None:\n",
    "            return node.label_name\n",
    "\n",
    "        if x[node.feature] == node.value:\n",
    "            return self.tree_traverse(x, node.left)\n",
    "        return self.tree_traverse(x, node.right)\n",
    "\n",
    "    def check_irrelevant(self):\n",
    "        return len(set(self.irrelevant_array))"
   ]
  },
  {
   "cell_type": "code",
   "execution_count": 254,
   "metadata": {},
   "outputs": [],
   "source": [
    "x, y, z = [], [], []\n",
    "it = [i for i in range(0, 2000, 200)]\n",
    "for i in range(0, 2000, 200):\n",
    "    data_obj = GenerateDataset2()\n",
    "    x_dataset, y_dataset = data_obj.generate(10000)\n",
    "    x_train, x_test, y_train, y_test = train_test_split(x_dataset, y_dataset, test_size=0.2, random_state=1234)\n",
    "\n",
    "    clf = DecisionTreeSample(i)\n",
    "    clf.train(x_train, y_train)\n",
    "\n",
    "    y_pred = clf.predict(x_test)\n",
    "    acc = 100*error(y_test, y_pred)\n",
    "\n",
    "    y_train_pred = clf.predict(x_train)\n",
    "    acc1 = 100*error(y_train, y_train_pred)\n",
    "\n",
    "    y.append(acc)\n",
    "    z.append(acc1)"
   ]
  },
  {
   "cell_type": "code",
   "execution_count": 255,
   "metadata": {},
   "outputs": [
    {
     "data": {
      "image/png": "[encoded data removed]",
      "text/plain": [
       "<Figure size 432x288 with 1 Axes>"
      ]
     },
     "metadata": {
      "needs_background": "light"
     },
     "output_type": "display_data"
    }
   ],
   "source": [
    "plt.plot(it,y)\n",
    "plt.plot(it, z)\n",
    "plt.xlabel(\"Sample Size\")\n",
    "plt.ylabel(\"Error in %\")\n",
    "plt.legend([\"Testing\", \"Training\"])\n",
    "plt.show()"
   ]
  },
  {
   "cell_type": "markdown",
   "metadata": {},
   "source": [
    "From the graph shown above, we can see that if the maximum sample size is greater than 700, we will get more error around 50%. After that, the line fluctuates a little bit only."
   ]
  },
  {
   "cell_type": "markdown",
   "metadata": {},
   "source": [
    "## Finding spurious data after pruning sample by depth"
   ]
  },
  {
   "cell_type": "code",
   "execution_count": 263,
   "metadata": {},
   "outputs": [
    {
     "name": "stdout",
     "output_type": "stream",
     "text": [
      "5.95\n"
     ]
    }
   ],
   "source": [
    "y, count = [], 0\n",
    "for i in range(0, 20):\n",
    "    data_obj = GenerateDataset2()\n",
    "    x_dataset, y_dataset = data_obj.generate(10000)\n",
    "    x_train, x_test, y_train, y_test = train_test_split(x_dataset, y_dataset, test_size=0.2, random_state=1234)\n",
    "\n",
    "    clf = DecisionTreeDepth(11)\n",
    "    clf.train(x_train, y_train)\n",
    "    \n",
    "    a = clf.check_irrelevant()\n",
    "    count += a\n",
    "    y.append(a)\n",
    "\n",
    "    y_pred = clf.predict(x_test)\n",
    "    acc = 100*error(y_test, y_pred)\n",
    "\n",
    "print(count/len(y))\n"
   ]
  },
  {
   "cell_type": "markdown",
   "metadata": {},
   "source": [
    "From question 2), the average number of irrelevant data that was gotten was 6. But after pruning the decision tree by depth, that average reduced by a bit to $5.95$. So, this shows that the likelihood of spurious data decreases if we prune the tree by an optimal depth."
   ]
  },
  {
   "cell_type": "markdown",
   "metadata": {},
   "source": [
    "## Finding spurious data after pruning sample by sample size"
   ]
  },
  {
   "cell_type": "code",
   "execution_count": 262,
   "metadata": {},
   "outputs": [
    {
     "name": "stdout",
     "output_type": "stream",
     "text": [
      "1.8\n"
     ]
    }
   ],
   "source": [
    "y, count = [], 0\n",
    "for i in range(0, 20):\n",
    "    data_obj = GenerateDataset2()\n",
    "    x_dataset, y_dataset = data_obj.generate(10000)\n",
    "    x_train, x_test, y_train, y_test = train_test_split(x_dataset, y_dataset, test_size=0.2, random_state=1234)\n",
    "\n",
    "    clf = DecisionTreeSample(400)\n",
    "    clf.train(x_train, y_train)\n",
    "    \n",
    "    a = clf.check_irrelevant()\n",
    "    count += a\n",
    "    y.append(a)\n",
    "\n",
    "    y_pred = clf.predict(x_test)\n",
    "    acc = 100*error(y_test, y_pred)\n",
    "\n",
    "print(count/len(y))"
   ]
  },
  {
   "cell_type": "markdown",
   "metadata": {},
   "source": [
    "The number of spurious data reduces significantly from 6 when no pruning was applied to $1.8$ after pruning by sample size. We can therefore say that after applying pruning by sample size, we get much more optimized tree with respect to spurious data."
   ]
  }
 ],
 "metadata": {
  "kernelspec": {
   "display_name": "Python 3",
   "language": "python",
   "name": "python3"
  },
  "language_info": {
   "codemirror_mode": {
    "name": "ipython",
    "version": 3
   },
   "file_extension": ".py",
   "mimetype": "text/x-python",
   "name": "python",
   "nbconvert_exporter": "python",
   "pygments_lexer": "ipython3",
   "version": "3.7.6"
  }
 },
 "nbformat": 4,
 "nbformat_minor": 1
}
