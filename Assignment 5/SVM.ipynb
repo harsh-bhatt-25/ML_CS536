{
 "cells": [
  {
   "cell_type": "code",
   "execution_count": 1,
   "metadata": {},
   "outputs": [],
   "source": [
    "import numpy as np\n",
    "import matplotlib.pyplot as plt"
   ]
  },
  {
   "cell_type": "code",
   "execution_count": 4,
   "metadata": {
    "pycharm": {
     "name": "#%%\n"
    }
   },
   "outputs": [],
   "source": [
    "class dual_svm:\n",
    "    def __init__(self):\n",
    "        self.epsilon = 1\n",
    "\n",
    "    def check_constraint(self, y, alpha):\n",
    "        length, _ = y.shape\n",
    "        summation = 0\n",
    "        \n",
    "        # Generating alphas from 2 to m\n",
    "        for i in range(1, length):\n",
    "            summation += alpha[i] * y[i] * y[0]\n",
    "            \n",
    "        # Checking if the constraint is met or not    \n",
    "        if -summation >= 0:\n",
    "            return -summation\n",
    "        else:\n",
    "            return False\n",
    "    \n",
    "    def differentiation(self, x, y, alphas, i):\n",
    "        length = alphas.shape[0]\n",
    "        \n",
    "        # Getting the summations ready\n",
    "        first_summation, second_summation, third_summation, fourth_summation = 0, 0, 0, 0\n",
    "        for j in range(1, length):\n",
    "            first_summation += np.dot(alphas[j], (np.dot(y[j], y[0])))\n",
    "            second_summation += np.dot(alphas[j], (np.dot(y[j], y[0])))\n",
    "            third_summation += np.dot(alphas[j], np.dot(y[j], (1 + np.dot(x[j], x[0]))**2))\n",
    "            if j != i:\n",
    "                fourth_summation += np.dot(alphas[j], (np.dot(y[j], y[i])))\n",
    "                \n",
    "        # Third summation is a vector\n",
    "        current_y_terms = np.dot(y[i], y[0])\n",
    "        current_x_terms = (1 + np.dot(x[i], x[0]))**2\n",
    "        \n",
    "        # This is the 'a' part that would be returned\n",
    "        final_term_svm = -current_y_terms + 1 - (first_summation * current_y_terms * 1 + (1 + np.dot(x[1], x[1]))**2) + y[0] \\\n",
    "        * ((first_summation * y[i] * current_x_terms) + (third_summation * current_y_terms)) \\\n",
    "        -((alphas[i] * (1 + np.dot(x[i], x[i]))**2) + (fourth_summation * (1 + np.dot(x[i], x[j]))**2))\n",
    "        \n",
    "#         print(final_term_svm)\n",
    "        \n",
    "        # This is the 'b' part to be returned\n",
    "        final_term_barrier = ((1/alphas[i]) + ((y[i] * y[0]) / -first_summation))\n",
    "        \n",
    "        return final_term_svm, final_term_barrier\n",
    "        \n",
    "    \n",
    "    def update_alphas(self, x, y ,alphas, time):\n",
    "        \n",
    "        alpha_lengths = alphas.shape[0]\n",
    "        \n",
    "        for i in range(1, alpha_lengths):\n",
    "            # Finding differentiation of SVM part (a) and the log barrier part (b)\n",
    "            a, b = self.differentiation(x, y, alphas, i)\n",
    "            \n",
    "            # Epsilon/time to decrease the power of barrier\n",
    "            alphas[i] += a[0] + ((self.epsilon / time) * b)\n",
    "            \n",
    "        \n",
    "    def barrier_svm(self, x, y):\n",
    "        m, k = x.shape\n",
    "        total_iterations = 100\n",
    "        \n",
    "        # Generating alphas satisfying the constraint\n",
    "        while True:\n",
    "            alpha_array = np.random.random_sample((m,))\n",
    "            alpha1 = self.check_constraint(y, alpha_array)\n",
    "            \n",
    "            # If constraint is met, we change alpha_1 and break. Otherwise we continue\n",
    "            if alpha1:\n",
    "                alpha_array[0] = alpha1\n",
    "                break\n",
    "            \n",
    "        # Got the initial feasible choice for alphas at t=0\n",
    "        # Now computing the unconstrained maximizer using SVM's changes equation and barrier method.\n",
    "        # self.barrier_equation(y, alpha_array)\n",
    "        \n",
    "#         print(alpha_array)\n",
    "        \n",
    "        for time in range(1, total_iterations):\n",
    "#             print(time)\n",
    "            # Using time to decrease the power of barrier (epsilon)\n",
    "            \n",
    "            self.update_alphas(x, y, alpha_array, time)\n",
    "        \n",
    "        print(alpha_array)\n",
    "        "
   ]
  },
  {
   "cell_type": "code",
   "execution_count": 5,
   "metadata": {},
   "outputs": [
    {
     "name": "stdout",
     "output_type": "stream",
     "text": [
      "[ 6.73997722e-02 -1.52614823e+84 -7.69457161e+83  5.98956452e+86]\n"
     ]
    }
   ],
   "source": [
    "# Testing\n",
    "d_svm = dual_svm()\n",
    "d_svm.barrier_svm(np.array([[1, 1], [-1, 1], [-1, -1], [1, -1]]), np.array([[-1], [1], [-1], [1]]))"
   ]
  }
 ],
 "metadata": {
  "kernelspec": {
   "display_name": "Python 3",
   "language": "python",
   "name": "python3"
  },
  "language_info": {
   "codemirror_mode": {
    "name": "ipython",
    "version": 3
   },
   "file_extension": ".py",
   "mimetype": "text/x-python",
   "name": "python",
   "nbconvert_exporter": "python",
   "pygments_lexer": "ipython3",
   "version": "3.7.6"
  }
 },
 "nbformat": 4,
 "nbformat_minor": 1
}