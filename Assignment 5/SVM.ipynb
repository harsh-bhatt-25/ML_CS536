{
 "cells": [
  {
   "cell_type": "code",
   "execution_count": 1219,
   "metadata": {},
   "outputs": [],
   "source": [
    "import numpy as np\n",
    "import matplotlib.pyplot as plt\n",
    "import random"
   ]
  },
  {
   "cell_type": "code",
   "execution_count": 1334,
   "metadata": {},
   "outputs": [],
   "source": [
    "class SVM: \n",
    "    \n",
    "    def __init__(self):\n",
    "        self.epsilon = 1\n",
    "        self.learning_rate = 0.01\n",
    "        \n",
    "    def kernel_function(self, x1, x2):\n",
    "        return (1 + np.dot(x1, x2)) ** 2\n",
    "    \n",
    "    def differentiation(self, x, y, alphas, time, j):\n",
    "        length = len(alphas)\n",
    "        \n",
    "        first_sum, second_sum, third_sum = 0, 0, 0\n",
    "        for i in range(1, length):\n",
    "            first_sum += alphas[i] * y[i]\n",
    "            second_sum += alphas[i] * y[i] * self.kernel_function(x[i], x[0])\n",
    "            third_sum += alphas[i] * y[i] * self.kernel_function(x[i], x[j]) * y[j]\n",
    "        \n",
    "        barrier_term = (self.epsilon / 2**time) * ((1 / alphas[j]) + y[j] / first_sum)\n",
    "        \n",
    "        final_differentiation_result = - 1 + (y[j] * y[0]) + ((self.kernel_function(x[0], x[0]) * first_sum * y[j]) - y[j] * (second_sum + (self.kernel_function(x[j], x[0]) * first_sum)) + third_sum) + barrier_term\n",
    "                \n",
    "        return final_differentiation_result\n",
    "\n",
    "    def barrier_svm(self, x, y, alphas, time):\n",
    "        length = len(alphas)\n",
    "        temp_alphas = np.zeros((length - 1, 1))\n",
    "        summation, count = 0, 0\n",
    "           \n",
    "        for current_alpha in range(1, length):\n",
    "                \n",
    "            result = self.differentiation(x, y, alphas, time, current_alpha)\n",
    "            if abs(result) < 0.00001:\n",
    "                count += 1\n",
    "            else:\n",
    "                temp_alphas[current_alpha - 1] = result\n",
    "                \n",
    "        if count == 3:\n",
    "            return alphas, False\n",
    "        else:\n",
    "            new_alphas = np.array(alphas[1:]).reshape(3, 1)\n",
    "            new_alphas = list(new_alphas - self.learning_rate * temp_alphas)\n",
    "\n",
    "            for i in range(1, len(alphas)):\n",
    "                summation = summation + (y[i] * new_alphas[i - 1])\n",
    "            new_alphas.insert(0, -summation)\n",
    "            return new_alphas, True"
   ]
  },
  {
   "cell_type": "code",
   "execution_count": 1340,
   "metadata": {},
   "outputs": [
    {
     "name": "stdout",
     "output_type": "stream",
     "text": [
      "Alpha 1 : 0.12500030963120035 \n",
      "Alpha 2 : 0.12500091517255585 \n",
      "Alpha 3 : 0.12500153868717384 \n",
      "Alpha 4 : 0.12500093314581834\n",
      "It took 147 iterations to converge.\n"
     ]
    }
   ],
   "source": [
    "x = [[1, -1], [1, 1], [-1, 1], [-1, -1]]\n",
    "y = [1, -1, 1, -1]\n",
    "alphas = []\n",
    "input_length = len(y)\n",
    "for i in range(input_length):\n",
    "    alphas.append(random.random())\n",
    "\n",
    "svm = SVM()\n",
    "for time in range(1, 500):\n",
    "    alphas, flag = svm.barrier_svm(x, y, alphas, time)\n",
    "    if not flag:\n",
    "        break\n",
    "print(\"Alpha 1 : {} \\nAlpha 2 : {} \\nAlpha 3 : {} \\nAlpha 4 : {}\".format(alphas[0][0], alphas[1][0], alphas[2][0], alphas[3][0]))\n",
    "print(\"It took {} iterations to converge.\".format(time))"
   ]
  }
 ],
 "metadata": {
  "kernelspec": {
   "display_name": "Python 3",
   "language": "python",
   "name": "python3"
  },
  "language_info": {
   "codemirror_mode": {
    "name": "ipython",
    "version": 3
   },
   "file_extension": ".py",
   "mimetype": "text/x-python",
   "name": "python",
   "nbconvert_exporter": "python",
   "pygments_lexer": "ipython3",
   "version": "3.7.6"
  }
 },
 "nbformat": 4,
 "nbformat_minor": 1
}