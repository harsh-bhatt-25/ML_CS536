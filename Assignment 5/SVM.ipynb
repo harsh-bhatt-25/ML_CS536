{
 "cells": [
  {
   "cell_type": "code",
   "execution_count": 3,
   "metadata": {},
   "outputs": [],
   "source": [
    "import numpy as np\n",
    "import matplotlib.pyplot as plt\n",
    "import random"
   ]
  },
  {
   "cell_type": "code",
   "execution_count": 22,
   "metadata": {},
   "outputs": [],
   "source": [
    "class SVM: \n",
    "        \n",
    "    def kernel_function(self, x1, x2):\n",
    "        return (1 + np.dot(x1, x2)) ** 2\n",
    "\n",
    "    def barrier_svm(self, x, y, alphas, time):\n",
    "        length = len(alphas)\n",
    "        temp_alphas = np.zeros((length - 1, 1))\n",
    "        summation, count = 0, 0\n",
    "           \n",
    "        for current_alpha in range(1, length):\n",
    "                \n",
    "            first_sum, second_sum, third_sum = 0, 0, 0\n",
    "            for i in range(1, length):\n",
    "                first_sum += alphas[i] * y[i]\n",
    "                second_sum += alphas[i] * y[i] * self.kernel_function(x[i], x[0])\n",
    "                third_sum += alphas[i] * y[i] * self.kernel_function(x[i], x[current_alpha]) * y[current_alpha]\n",
    "        \n",
    "            barrier_term = (1 / time**2) * ((1 / alphas[current_alpha]) + y[current_alpha] / first_sum)\n",
    "        \n",
    "            final_differentiation_result = - 1 + (y[current_alpha] * y[0]) + ((self.kernel_function(x[0], x[0]) * first_sum * y[current_alpha]) - y[current_alpha] * (second_sum + (self.kernel_function(x[current_alpha], x[0]) * first_sum)) + third_sum) + barrier_term\n",
    "            temp_alphas[current_alpha - 1] = final_differentiation_result\n",
    "                \n",
    "        new_alphas = np.array(alphas[1:]).reshape(3, 1)\n",
    "        new_alphas = list(new_alphas - 0.01 * temp_alphas)\n",
    "\n",
    "        for i in range(1, len(alphas)):\n",
    "            summation = summation + (y[i] * new_alphas[i - 1])\n",
    "        new_alphas.insert(0, -summation)\n",
    "        return new_alphas"
   ]
  },
  {
   "cell_type": "code",
   "execution_count": 23,
   "metadata": {},
   "outputs": [
    {
     "name": "stdout",
     "output_type": "stream",
     "text": [
      "[array([0.12499899]), array([0.12499898]), array([0.12499897]), array([0.12499898])]\n"
     ]
    }
   ],
   "source": [
    "x = [[1, -1], [1, 1], [-1, 1], [-1, -1]]\n",
    "y = [1, -1, 1, -1]\n",
    "alphas = [1, 1, 1, 1]\n",
    "\n",
    "svm = SVM()\n",
    "for time in range(1, 1000):\n",
    "    alphas = svm.barrier_svm(x, y, alphas, time)\n",
    "print(alphas)"
   ]
  }
 ],
 "metadata": {
  "kernelspec": {
   "display_name": "Python 3",
   "language": "python",
   "name": "python3"
  },
  "language_info": {
   "codemirror_mode": {
    "name": "ipython",
    "version": 3
   },
   "file_extension": ".py",
   "mimetype": "text/x-python",
   "name": "python",
   "nbconvert_exporter": "python",
   "pygments_lexer": "ipython3",
   "version": "3.7.6"
  }
 },
 "nbformat": 4,
 "nbformat_minor": 1
}